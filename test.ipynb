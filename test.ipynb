{
 "cells": [
  {
   "cell_type": "code",
   "execution_count": 66,
   "metadata": {},
   "outputs": [],
   "source": [
    "import glob\n",
    "import cv2\n",
    "import numpy as np\n",
    "from sklearn.model_selection import train_test_split\n",
    "import matplotlib.pyplot as plt"
   ]
  },
  {
   "cell_type": "code",
   "execution_count": 56,
   "metadata": {},
   "outputs": [
    {
     "name": "stdout",
     "output_type": "stream",
     "text": [
      "cifar10/truck/*\n",
      "cifar10/airplane/*\n",
      "cifar10/automobile/*\n",
      "cifar10/bird/*\n",
      "cifar10/cat/*\n",
      "cifar10/deer/*\n",
      "cifar10/dog/*\n",
      "cifar10/frog/*\n",
      "cifar10/horse/*\n",
      "cifar10/ship/*\n"
     ]
    }
   ],
   "source": [
    "# rename file name -> number\n",
    "classes = {0: \"truck\", 1: \"airplane\", 2: \"automobile\", 3: \"bird\", 4: \"cat\", \n",
    "        5: \"deer\", 6: \"dog\", 7: \"frog\", 8: \"horse\", 9: \"ship\"} # the names of the classes\n",
    "name_label = []\n",
    "X = []\n",
    "for i in range(len(classes)):\n",
    "    dir = \"cifar10/\" + classes[i] + \"/*\"\n",
    "    print(dir)\n",
    "    name_list = glob.glob(dir)\n",
    "    for name in name_list:\n",
    "        name_label.append(classes[i]) # add labels for each samples\n",
    "        img = cv2.imread(name)\n",
    "        X.append((img))"
   ]
  },
  {
   "cell_type": "code",
   "execution_count": 64,
   "metadata": {},
   "outputs": [
    {
     "name": "stdout",
     "output_type": "stream",
     "text": [
      "(60000, 32, 32, 3) (60000, 1)\n"
     ]
    }
   ],
   "source": [
    "# transform data to np array\n",
    "X = np.array(X)\n",
    "y = np.array(name_label)\n",
    "y = y[:, None]\n",
    "print(X.shape, y.shape)"
   ]
  },
  {
   "cell_type": "code",
   "execution_count": 85,
   "metadata": {},
   "outputs": [
    {
     "name": "stdout",
     "output_type": "stream",
     "text": [
      "(55000, 3072) (5000, 3072)\n"
     ]
    }
   ],
   "source": [
    "X_train, X_test, y_train, y_test = train_test_split(X, y, \n",
    "                                                    test_size=1/12, \n",
    "                                                    random_state=42,\n",
    "                                                    shuffle=True)\n",
    "X_train_scaled = np.array([x.ravel()/255. for x in X_train])\n",
    "X_test_scaled = np.array([x.ravel()/255. for x in X_test])\n",
    "print(X_train_scaled.shape, X_test_scaled.shape)"
   ]
  },
  {
   "cell_type": "code",
   "execution_count": 89,
   "metadata": {},
   "outputs": [
    {
     "data": {
      "text/plain": [
       "[500, 496, 493, 496, 502, 522, 530, 497, 479, 485]"
      ]
     },
     "execution_count": 89,
     "metadata": {},
     "output_type": "execute_result"
    }
   ],
   "source": [
    "# (bonus): check sự chênh lệch giữa sample các lớp trong tập test\n",
    "freq = []\n",
    "for i in range(len(classes)):\n",
    "    count = 0\n",
    "    for j in range(len(y_test)):\n",
    "        if y_test[j][0] == classes[i]:\n",
    "            count += 1\n",
    "    freq.append(count)\n",
    "freq"
   ]
  }
 ],
 "metadata": {
  "kernelspec": {
   "display_name": "Python 3",
   "language": "python",
   "name": "python3"
  },
  "language_info": {
   "codemirror_mode": {
    "name": "ipython",
    "version": 3
   },
   "file_extension": ".py",
   "mimetype": "text/x-python",
   "name": "python",
   "nbconvert_exporter": "python",
   "pygments_lexer": "ipython3",
   "version": "3.9.0"
  },
  "orig_nbformat": 4,
  "vscode": {
   "interpreter": {
    "hash": "c081257499a92776a7ff5343ee4d85420a7950a6ae97b0cb2aee7a7ddd41b7f2"
   }
  }
 },
 "nbformat": 4,
 "nbformat_minor": 2
}
